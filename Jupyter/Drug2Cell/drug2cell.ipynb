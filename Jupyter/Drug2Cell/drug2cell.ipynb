{
 "cells": [
  {
   "cell_type": "code",
   "execution_count": null,
   "metadata": {},
   "outputs": [],
   "source": [
    "import  drug2cell   as  d2c\n",
    "import  scanpy  as  sc\n",
    "import  matplotlib  as  mpl\n",
    "import  blitzgsea   as  bltz    \n",
    "import  anndata as  ad\n",
    "import pandas as pd\n",
    "import leidenalg\n",
    "import hdf5plugin\n",
    "import csv"
   ]
  },
  {
   "cell_type": "markdown",
   "metadata": {},
   "source": [
    "### Whole ZFTA organoid Drug2cell analysis"
   ]
  },
  {
   "cell_type": "code",
   "execution_count": null,
   "metadata": {},
   "outputs": [],
   "source": [
    "whole_zfta = sc.read_h5ad(\"/hpc/pmc_kool/fvalzano/Jupyter/Drug2cell/Ependymoma_whole_organoid/whole_zfta.h5ad\")\n",
    "whole_zfta.layers[\"RNA\"] = whole_zfta.X.copy()\n",
    "whole_zfta"
   ]
  },
  {
   "cell_type": "code",
   "execution_count": null,
   "metadata": {},
   "outputs": [],
   "source": [
    "d2c.score(whole_zfta, use_raw=False, layer=\"RNA\")\n",
    "whole_zfta.uns['drug2cell'].var\n"
   ]
  },
  {
   "cell_type": "code",
   "execution_count": null,
   "metadata": {},
   "outputs": [],
   "source": [
    "sc.pl.umap(whole_zfta.uns['drug2cell'], color=\"CHEMBL1607|TOPOTECAN HYDROCHLORIDE\", color_map=\"OrRd\")\n",
    "sc.pl.umap(whole_zfta, color='new_mapping')"
   ]
  },
  {
   "cell_type": "code",
   "execution_count": null,
   "metadata": {},
   "outputs": [],
   "source": [
    "sc.tl.rank_genes_groups(whole_zfta.uns['drug2cell'], method=\"wilcoxon\", groupby=\"new_mapping\") #Annotation MUST be a character, not numerical\n",
    "sc.pl.rank_genes_groups_dotplot(whole_zfta.uns['drug2cell'], swap_axes=True, dendrogram=True, groupby =\"new_mapping\", n_genes=10, standard_scale='var')"
   ]
  },
  {
   "cell_type": "code",
   "execution_count": 6,
   "metadata": {},
   "outputs": [],
   "source": [
    "drug_names = pd.DataFrame(whole_zfta.uns['drug2cell'].uns['rank_genes_groups']['names'])\n",
    "drug_scores = pd.DataFrame(whole_zfta.uns['drug2cell'].uns['rank_genes_groups']['scores'])\n",
    "pvals = pd.DataFrame(whole_zfta.uns['drug2cell'].uns['rank_genes_groups']['pvals'])"
   ]
  },
  {
   "cell_type": "code",
   "execution_count": null,
   "metadata": {},
   "outputs": [],
   "source": [
    "hatagpos_drug_prediction = pd.concat([drug_names.iloc[:,1], drug_scores.iloc[:,1], pvals.iloc[:,1]],axis = 1)\n",
    "hatagpos_drug_prediction.iloc[:,0]\n",
    "with mpl.rc_context({\"figure.figsize\": (8, 8), \"figure.dpi\": (150)}):\n",
    "    sc.pl.dotplot(whole_zfta.uns['drug2cell'], var_names=hatagpos_drug_prediction.iloc[:,0].head(25), swap_axes=True, dendrogram=True, groupby =\"new_mapping\", standard_scale='var', save=\"D2C_whole_ZFTA_top25_HAtagpos.png\")\n",
    "mpl.pyplot.savefig(\"D2C_whole_ZFTA_top25_HAtagpos.svg\")"
   ]
  },
  {
   "cell_type": "code",
   "execution_count": 106,
   "metadata": {},
   "outputs": [],
   "source": [
    "earlyrg_drug_prediction = pd.concat([drug_names.iloc[:,0], drug_scores.iloc[:,0], pvals.iloc[:,0]],axis = 1)\n",
    "earlyrg_drug_prediction.to_csv(\"/hpc/pmc_kool/fvalzano/Jupyter/Drug2cell/Ependymoma_whole_organoid/whole_zfta_earlyrg_drug_prediction.csv\", index=True)\n",
    "hatagpos_drug_prediction = pd.concat([drug_names.iloc[:,1], drug_scores.iloc[:,1], pvals.iloc[:,1]],axis = 1)\n",
    "hatagpos_drug_prediction.to_csv(\"/hpc/pmc_kool/fvalzano/Jupyter/Drug2cell/Ependymoma_whole_organoid/whole_zfta_hatagpos_drug_prediction.csv\", index=True)\n",
    "laterg_drug_prediction = pd.concat([drug_names.iloc[:,2], drug_scores.iloc[:,2], pvals.iloc[:,2]],axis = 1)\n",
    "laterg_drug_prediction.to_csv(\"/hpc/pmc_kool/fvalzano/Jupyter/Drug2cell/Ependymoma_whole_organoid/whole_zfta_laterg_drug_prediction.csv\", index=True)\n",
    "neuronal_drug_prediction = pd.concat([drug_names.iloc[:,3], drug_scores.iloc[:,3], pvals.iloc[:,3]],axis = 1)\n",
    "neuronal_drug_prediction.to_csv(\"/hpc/pmc_kool/fvalzano/Jupyter/Drug2cell/Ependymoma_whole_organoid/whole_zfta_neuronal_drug_prediction.csv\", index=True)\n",
    "rgastro_drug_prediction = pd.concat([drug_names.iloc[:,4], drug_scores.iloc[:,4], pvals.iloc[:,4]],axis = 1)\n",
    "rgastro_drug_prediction.to_csv(\"/hpc/pmc_kool/fvalzano/Jupyter/Drug2cell/Ependymoma_whole_organoid/whole_zfta_rgastro_drug_prediction.csv\", index=True)"
   ]
  },
  {
   "cell_type": "markdown",
   "metadata": {},
   "source": [
    "### Whole YAP organoids Drug2cell analysis"
   ]
  },
  {
   "cell_type": "code",
   "execution_count": null,
   "metadata": {},
   "outputs": [],
   "source": [
    "whole_yap = sc.read_h5ad(\"/hpc/pmc_kool/fvalzano/Jupyter/Drug2cell/Ependymoma_whole_organoid/whole_yap.h5ad\")\n",
    "whole_yap.layers[\"RNA\"] = whole_yap.X.copy()\n",
    "whole_yap"
   ]
  },
  {
   "cell_type": "code",
   "execution_count": null,
   "metadata": {},
   "outputs": [],
   "source": [
    "d2c.score(whole_yap, use_raw=False, layer=\"RNA\")\n",
    "whole_yap.uns['drug2cell'].var"
   ]
  },
  {
   "cell_type": "code",
   "execution_count": null,
   "metadata": {},
   "outputs": [],
   "source": [
    "sc.pl.umap(whole_yap.uns['drug2cell'], color=\"CHEMBL1201607|NATALIZUMAB\", color_map=\"OrRd\")\n",
    "sc.pl.umap(whole_yap, color='new_mapping')"
   ]
  },
  {
   "cell_type": "code",
   "execution_count": null,
   "metadata": {},
   "outputs": [],
   "source": [
    "sc.tl.rank_genes_groups(whole_yap.uns['drug2cell'], method=\"wilcoxon\", groupby=\"new_mapping\") #Annotation MUST be a character, not numerical\n",
    "sc.pl.rank_genes_groups_dotplot(whole_yap.uns['drug2cell'], swap_axes=True, dendrogram=True, groupby =\"new_mapping\", n_genes=10, standard_scale='var')"
   ]
  },
  {
   "cell_type": "code",
   "execution_count": 14,
   "metadata": {},
   "outputs": [],
   "source": [
    "drug_names = pd.DataFrame(whole_yap.uns['drug2cell'].uns['rank_genes_groups']['names'])\n",
    "drug_scores = pd.DataFrame(whole_yap.uns['drug2cell'].uns['rank_genes_groups']['scores'])\n",
    "pvals = pd.DataFrame(whole_yap.uns['drug2cell'].uns['rank_genes_groups']['pvals'])"
   ]
  },
  {
   "cell_type": "code",
   "execution_count": null,
   "metadata": {},
   "outputs": [],
   "source": [
    "hatagpos_drug_prediction = pd.concat([drug_names.iloc[:,0], drug_scores.iloc[:,0], pvals.iloc[:,0]],axis = 1)\n",
    "hatagpos_drug_prediction.iloc[:,0]\n",
    "with mpl.rc_context({\"figure.figsize\": (8, 8), \"figure.dpi\": (150)}):\n",
    "   sc.pl.dotplot(whole_yap.uns['drug2cell'], var_names=hatagpos_drug_prediction.iloc[:,0].head(25), swap_axes=True, dendrogram=True, groupby =\"new_mapping\", standard_scale='var', save=\"D2C_whole_YAP_top25_HAtagpos.png\")\n",
    "mpl.pyplot.savefig(\"D2C_whole_YAP_top25_HAtagpos.svg\")"
   ]
  },
  {
   "cell_type": "markdown",
   "metadata": {},
   "source": [
    "## Save drug prediction list as .csv"
   ]
  },
  {
   "cell_type": "code",
   "execution_count": 62,
   "metadata": {},
   "outputs": [],
   "source": [
    "hatag_drug_prediction = pd.concat([drug_names.iloc[:,0], drug_scores.iloc[:,0], pvals.iloc[:,0]],axis = 1)\n",
    "hatag_drug_prediction\n",
    "hatag_drug_prediction.to_csv(\"/hpc/pmc_kool/fvalzano/Jupyter/Drug2cell/Ependymoma_whole_organoid/whole_yap_hatagpos_drug_prediction.csv\", index=True)\n",
    "laterg_drug_prediction = pd.concat([drug_names.iloc[:,1], drug_scores.iloc[:,1], pvals.iloc[:,1]],axis = 1)\n",
    "laterg_drug_prediction\n",
    "laterg_drug_prediction.to_csv(\"/hpc/pmc_kool/fvalzano/Jupyter/Drug2cell/Ependymoma_whole_organoid/whole_yap_laterg_drug_prediction.csv\", index=True)\n",
    "neuronal_drug_prediction = pd.concat([drug_names.iloc[:,2], drug_scores.iloc[:,2], pvals.iloc[:,2]],axis = 1)\n",
    "neuronal_drug_prediction\n",
    "neuronal_drug_prediction.to_csv(\"/hpc/pmc_kool/fvalzano/Jupyter/Drug2cell/Ependymoma_whole_organoid/whole_yap_neuronal_drug_prediction.csv\", index=True)"
   ]
  }
 ],
 "metadata": {
  "kernelspec": {
   "display_name": "drug2cell",
   "language": "python",
   "name": "python3"
  },
  "language_info": {
   "codemirror_mode": {
    "name": "ipython",
    "version": 3
   },
   "file_extension": ".py",
   "mimetype": "text/x-python",
   "name": "python",
   "nbconvert_exporter": "python",
   "pygments_lexer": "ipython3",
   "version": "3.12.1"
  }
 },
 "nbformat": 4,
 "nbformat_minor": 2
}
