{
 "cells": [
  {
   "cell_type": "code",
   "execution_count": 1,
   "metadata": {},
   "outputs": [],
   "source": [
    "import scvelo as scv\n",
    "import pandas as pd\n",
    "import matplotlib.pyplot as plt\n",
    "from scipy.stats import linregress\n",
    "import numpy as np\n",
    "import scanpy as sc\n",
    "import csv as csv\n",
    "import cellrank as cr"
   ]
  },
  {
   "cell_type": "code",
   "execution_count": null,
   "metadata": {},
   "outputs": [],
   "source": [
    "#Load concatenated loom file and integrated single cell .h5ad file\n",
    "\n",
    "loom = scv.read(\"/hpc/pmc_kool/fvalzano/Jupyter/scvelo/Ependymoma/Timepoints/timepoints.loom\")\n",
    "scrna = scv.read(\"/hpc/pmc_kool/fvalzano/Jupyter/scvelo/Ependymoma/Timepoints/scrna_timepoints.h5ad\")"
   ]
  },
  {
   "cell_type": "code",
   "execution_count": null,
   "metadata": {},
   "outputs": [],
   "source": [
    "#Merge single cell object and loom file in a new velocity object that will store information regarding spliced and unspliced RNA in the velocity object and single cell data\n",
    "scrna_velocity = scv.utils.merge(scrna, loom)\n",
    "scrna_velocity.obs"
   ]
  },
  {
   "cell_type": "code",
   "execution_count": 9,
   "metadata": {},
   "outputs": [
    {
     "data": {
      "image/png": "[encoded data removed]",
      "text/plain": [
       "<Figure size 1000x200 with 1 Axes>"
      ]
     },
     "metadata": {},
     "output_type": "display_data"
    }
   ],
   "source": [
    "#Convert timepoints metadata slot in a character\n",
    "scrna_velocity.obs['timepoints_chr'] = scrna_velocity.obs['timepoint'].map({0:'11d',\n",
    "                                                                             1:'d30',\n",
    "                                                                             2:'d44',\n",
    "                                                                             3:'d80'})\n",
    "scv.pl.proportions(scrna_velocity, groupby= \"timepoint_chr\")"
   ]
  },
  {
   "cell_type": "code",
   "execution_count": null,
   "metadata": {},
   "outputs": [],
   "source": [
    "#Run scvelo\n",
    "scv.pp.filter_and_normalize(scrna_velocity, min_shared_counts=20, n_top_genes=4000)\n",
    "scv.pp.moments(scrna_velocity, n_pcs=30, n_neighbors=30)\n",
    "scv.tl.recover_dynamics(scrna_velocity)\n",
    "scv.tl.velocity(scrna_velocity, mode='dynamical')\n",
    "scrna_velocity"
   ]
  },
  {
   "cell_type": "code",
   "execution_count": null,
   "metadata": {},
   "outputs": [],
   "source": [
    "#Plot velocity results\n",
    "scv.tl.velocity_graph(scrna_velocity)\n",
    "scv.pl.velocity_embedding_grid(scrna_velocity, basis='umap', color='timepoint', arrow_length=1.5, dpi=150, palette=['#954536', '#cfa486', '#cf9e98', '#197da5'], save=\"Timepoints_velocity_grid.svg\")"
   ]
  },
  {
   "cell_type": "code",
   "execution_count": null,
   "metadata": {},
   "outputs": [],
   "source": [
    "#Plot top fitted velocity genes sorted by fit likelihood score\n",
    "top_genes = scrna_velocity.var[\"fit_likelihood\"].sort_values(ascending=False).index[:10]\n",
    "plt.hist(scrna_velocity.var['fit_likelihood'])\n",
    "scv.pl.scatter(scrna_velocity, var_names=top_genes, color=\"timepoint\")"
   ]
  },
  {
   "cell_type": "code",
   "execution_count": 13,
   "metadata": {},
   "outputs": [
    {
     "data": {
      "text/plain": [
       "638"
      ]
     },
     "execution_count": 13,
     "metadata": {},
     "output_type": "execute_result"
    }
   ],
   "source": [
    "#How many velocity genes?\n",
    "scrna_velocity.var['velocity_genes'].sum()"
   ]
  },
  {
   "cell_type": "code",
   "execution_count": null,
   "metadata": {},
   "outputs": [],
   "source": [
    "#Compute root and end state based on latent time\n",
    "scv.tl.terminal_states(scrna_velocity)\n",
    "scv.tl.latent_time(scrna_velocity)\n",
    "scv.pl.scatter(scrna_velocity, color='latent_time', color_map='gnuplot', size=10)\n",
    "scv.pl.scatter(scrna_velocity, color=[ 'root_cells', 'end_points'], save=\"Timepoints_Root_and_End_points.svg\")"
   ]
  },
  {
   "cell_type": "code",
   "execution_count": null,
   "metadata": {},
   "outputs": [],
   "source": [
    "#Find genes changing along the transdifferentiation trajectory highlighted by RNAvelocity\n",
    "top_genes = scrna_velocity.var['fit_likelihood'].sort_values(ascending=False).index[:300]\n",
    "scv.pl.heatmap(scrna_velocity, var_names=top_genes, sortby='latent_time', col_color='timepoint', palette=['#954536', '#cfa486', '#cf9e98', '#197da5'], save=\"Heatmap_Velocity_genes.svg\")"
   ]
  },
  {
   "cell_type": "code",
   "execution_count": 18,
   "metadata": {},
   "outputs": [],
   "source": [
    "#Extract heatmap rows (genes)\n",
    "xkey = 'Ms'\n",
    "tkey = 'latent_time'\n",
    "n_convolve = 30\n",
    "\n",
    "var_names = top_genes[:300]\n",
    "\n",
    "time = scrna_velocity.obs[tkey].values\n",
    "time = time[np.isfinite(time)]\n",
    "\n",
    "df = pd.DataFrame(scrna_velocity[:, var_names].layers[xkey][np.argsort(time)], columns=var_names)\n",
    "\n",
    "if n_convolve is not None:\n",
    "    weights = np.ones(n_convolve) / n_convolve\n",
    "    for i, gene in enumerate(var_names):\n",
    "        df[gene] = np.convolve(df[gene].values, weights, mode='same')\n",
    "\n",
    "max_sort = np.argsort(np.argmax(df.values, axis=0))\n",
    "top_genes_ordered = top_genes[max_sort]\n",
    "\n",
    "with open('top_genes_ordered.csv', 'w', newline='') as file:\n",
    "    writer = csv.writer(file)\n",
    "    writer.writerows([top_genes_ordered])"
   ]
  },
  {
   "cell_type": "code",
   "execution_count": null,
   "metadata": {},
   "outputs": [],
   "source": [
    "#Investigate single genes\n",
    "scv.pl.velocity(scrna_velocity, [\"STMN2\"], color='timepoint')\n",
    "scv.pl.scatter(scrna_velocity, x='latent_time', y='STMN2', frameon=False, use_raw=False, color='timepoint')"
   ]
  },
  {
   "cell_type": "code",
   "execution_count": null,
   "metadata": {},
   "outputs": [],
   "source": [
    "#Calculate velocity pseudotime \n",
    "scv.tl.velocity_pseudotime(scrna_velocity)\n",
    "scv.pl.scatter(scrna_velocity, color='velocity_pseudotime', cmap='gnuplot')\n",
    "scv.pl.velocity_embedding_grid(scrna_velocity, basis='umap', color='velocity_pseudotime', arrow_length=1.5, dpi=150, cmap='gnuplot')"
   ]
  },
  {
   "cell_type": "code",
   "execution_count": null,
   "metadata": {},
   "outputs": [],
   "source": [
    "sc.pl.violin(scrna_velocity, groupby='seurat_clusters', keys=\"velocity_pseudotime\" frameon=True, use_raw=False, color=\"timepoint\")"
   ]
  }
 ],
 "metadata": {
  "kernelspec": {
   "display_name": "scvelo",
   "language": "python",
   "name": "python3"
  },
  "language_info": {
   "codemirror_mode": {
    "name": "ipython",
    "version": 3
   },
   "file_extension": ".py",
   "mimetype": "text/x-python",
   "name": "python",
   "nbconvert_exporter": "python",
   "pygments_lexer": "ipython3",
   "version": "3.11.7"
  }
 },
 "nbformat": 4,
 "nbformat_minor": 2
}
